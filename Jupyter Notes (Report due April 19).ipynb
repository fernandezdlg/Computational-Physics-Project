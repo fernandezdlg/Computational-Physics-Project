{
 "cells": [
  {
   "cell_type": "markdown",
   "metadata": {},
   "source": [
    "# Individual\tproject\t\n",
    "## Grading:\tYour\tindividual\tproject\twill\tbe\tgraded\ton\tthe\tfollowing\t\n",
    "### 1. Written report – 60\n",
    "\n",
    "A written report is due at the end of the teaching term (19th April) which will be graded on the following criteria\n",
    "\n",
    "1. Novelty\t/\tComplexity\tof\tthe\tproject\t–\t10\t\n",
    "2. Understanding\tof\tthe\tproblem\t–\t10\t\n",
    "3. Choice\tof\tcomputational\tmethod\t–\t10\t\n",
    "4. Implementation\tof\tnumerical\tmethod\t–\t10\t\t\n",
    "5. Analysis\tof\tresults\t–\t20\t\n",
    "\n",
    "### 2. Oral presentation – 20\n",
    "\n",
    "You’ll be required to deliver a 10 min oral presenta^on on your project.\n",
    "\n",
    "We shall organise day-long presentation session on 22nd April (Monday of the revision week)\n",
    "\n",
    "### 3. Individual oral exam – 20\n",
    "\n",
    "A 15-min oral exam during the week of 22-26 April.\n"
   ]
  },
  {
   "cell_type": "markdown",
   "metadata": {},
   "source": [
    "# Project Title: Modeling of Neutron Stars in General Relativity (?)\n",
    "\n",
    "Now:\n",
    "* Compute 6 elements from TOV_Notes\n",
    "* Bayronic vs gravitational mass comparisons\n",
    "* Comparisons of numerical methods\n",
    "    * Extreme cases Equations of State\n",
    "    \n",
    "Extras:\n",
    "* Metrics\n",
    "* Explore different energy tensors"
   ]
  },
  {
   "cell_type": "markdown",
   "metadata": {},
   "source": [
    "# Abstract\n",
    "\n",
    "The Tolman-Oppenheimer-Volkoff equations are equations that describe a particular solution of Einstein's General Relativity equations, in essence they model a spherical body in gravitational equilibrium. This equation has interesting properties regarding the volume and mass of the body. The definition of the mass of spherical bodies takes into consideration the space-time curvature afecting the volume when integrating the density function, and the volume is affected by the pressure of the body, which is described by equations of state that relate it to the density of the body. We aim to explore different equations of state, and analyse how they affect the body's mass and volume, (as well as its gravitational potential?)\n",
    "\n",
    "\n",
    "\n",
    "\n",
    "The Tolman-Oppenheimer-Volkoff equations are equations that describe a particular solution of Einstein's General Relativity equations. They model a spherical, isotropic body in gravitational equilibrium, according to Generaly relativity. These equations can be used to calculate interesting properties such as the density, volume, radius, potential and mass of the body. \n",
    "\n",
    "The definition of the density of spherical bodies takes into consideration the space-time curvature afecting the volume when integrating the density function, and the volume is affected by the pressure of the body, which is described by equations of state that relate it to the density of the body.\n",
    "\n",
    "Our project aims to calculate these many properties. These include the gravitational mass and baryonic mass of a neutron star and how they differ, along with the affect that the terms relating to General relativity have on the final result and testing to see how large the difference is when using different ODE solving methods. Finally, we also wish to expand and test different equations of state for neutrons stars to see if this method can produce results that match observations. "
   ]
  },
  {
   "cell_type": "code",
   "execution_count": null,
   "metadata": {},
   "outputs": [],
   "source": []
  }
 ],
 "metadata": {
  "kernelspec": {
   "display_name": "Python 3",
   "language": "python",
   "name": "python3"
  },
  "language_info": {
   "codemirror_mode": {
    "name": "ipython",
    "version": 3
   },
   "file_extension": ".py",
   "mimetype": "text/x-python",
   "name": "python",
   "nbconvert_exporter": "python",
   "pygments_lexer": "ipython3",
   "version": "3.7.2"
  }
 },
 "nbformat": 4,
 "nbformat_minor": 2
}
