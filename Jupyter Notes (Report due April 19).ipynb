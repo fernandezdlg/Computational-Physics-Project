{
 "cells": [
  {
   "cell_type": "markdown",
   "metadata": {},
   "source": [
    "# Individual\tproject\t\n",
    "## Grading:\tYour\tindividual\tproject\twill\tbe\tgraded\ton\tthe\tfollowing\t\n",
    "### 1. Written report – 60\n",
    "\n",
    "A written report is due at the end of the teaching term (19th April) which will be graded on the following criteria\n",
    "\n",
    "1. Novelty\t/\tComplexity\tof\tthe\tproject\t–\t10\t\n",
    "2. Understanding\tof\tthe\tproblem\t–\t10\t\n",
    "3. Choice\tof\tcomputational\tmethod\t–\t10\t\n",
    "4. Implementation\tof\tnumerical\tmethod\t–\t10\t\t\n",
    "5. Analysis\tof\tresults\t–\t20\t\n",
    "\n",
    "### 2. Oral presentation – 20\n",
    "\n",
    "You’ll be required to deliver a 10 min oral presenta^on on your project.\n",
    "\n",
    "We shall organise day-long presentation session on 22nd April (Monday of the revision week)\n",
    "\n",
    "### 3. Individual oral exam – 20\n",
    "\n",
    "A 15-min oral exam during the week of 22-26 April.\n"
   ]
  },
  {
   "cell_type": "markdown",
   "metadata": {},
   "source": [
    "# Project Title: Modeling of Neutron Stars in General Relativity (?)\n",
    "\n"
   ]
  },
  {
   "cell_type": "code",
   "execution_count": null,
   "metadata": {},
   "outputs": [],
   "source": []
  }
 ],
 "metadata": {
  "kernelspec": {
   "display_name": "Python 3",
   "language": "python",
   "name": "python3"
  },
  "language_info": {
   "codemirror_mode": {
    "name": "ipython",
    "version": 3
   },
   "file_extension": ".py",
   "mimetype": "text/x-python",
   "name": "python",
   "nbconvert_exporter": "python",
   "pygments_lexer": "ipython3",
   "version": "3.7.1"
  }
 },
 "nbformat": 4,
 "nbformat_minor": 2
}
